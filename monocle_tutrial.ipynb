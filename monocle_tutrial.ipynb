{
 "cells": [
  {
   "cell_type": "code",
   "execution_count": 33,
   "metadata": {},
   "outputs": [
    {
     "data": {
      "text/html": [
       "<ol class=list-inline>\n",
       "\t<li>'R_monocle.ipynb'</li>\n",
       "\t<li>'Untitled.ipynb'</li>\n",
       "\t<li>'pbmc8k_filtered_gene_bc_matrices.tar.gz'</li>\n",
       "</ol>\n"
      ],
      "text/latex": [
       "\\begin{enumerate*}\n",
       "\\item 'R\\_monocle.ipynb'\n",
       "\\item 'Untitled.ipynb'\n",
       "\\item 'pbmc8k\\_filtered\\_gene\\_bc\\_matrices.tar.gz'\n",
       "\\end{enumerate*}\n"
      ],
      "text/markdown": [
       "1. 'R_monocle.ipynb'\n",
       "2. 'Untitled.ipynb'\n",
       "3. 'pbmc8k_filtered_gene_bc_matrices.tar.gz'\n",
       "\n",
       "\n"
      ],
      "text/plain": [
       "[1] \"R_monocle.ipynb\"                        \n",
       "[2] \"Untitled.ipynb\"                         \n",
       "[3] \"pbmc8k_filtered_gene_bc_matrices.tar.gz\""
      ]
     },
     "metadata": {},
     "output_type": "display_data"
    }
   ],
   "source": [
    "dir()"
   ]
  },
  {
   "cell_type": "code",
   "execution_count": 5,
   "metadata": {},
   "outputs": [
    {
     "name": "stderr",
     "output_type": "stream",
     "text": [
      "Loading required package: Matrix\n",
      "Loading required package: Biobase\n",
      "Loading required package: BiocGenerics\n",
      "Loading required package: parallel\n",
      "\n",
      "Attaching package: ‘BiocGenerics’\n",
      "\n",
      "The following objects are masked from ‘package:parallel’:\n",
      "\n",
      "    clusterApply, clusterApplyLB, clusterCall, clusterEvalQ,\n",
      "    clusterExport, clusterMap, parApply, parCapply, parLapply,\n",
      "    parLapplyLB, parRapply, parSapply, parSapplyLB\n",
      "\n",
      "The following objects are masked from ‘package:Matrix’:\n",
      "\n",
      "    colMeans, colSums, rowMeans, rowSums, which\n",
      "\n",
      "The following objects are masked from ‘package:stats’:\n",
      "\n",
      "    IQR, mad, sd, var, xtabs\n",
      "\n",
      "The following objects are masked from ‘package:base’:\n",
      "\n",
      "    Filter, Find, Map, Position, Reduce, anyDuplicated, append,\n",
      "    as.data.frame, basename, cbind, colMeans, colSums, colnames,\n",
      "    dirname, do.call, duplicated, eval, evalq, get, grep, grepl,\n",
      "    intersect, is.unsorted, lapply, lengths, mapply, match, mget,\n",
      "    order, paste, pmax, pmax.int, pmin, pmin.int, rank, rbind,\n",
      "    rowMeans, rowSums, rownames, sapply, setdiff, sort, table, tapply,\n",
      "    union, unique, unsplit, which, which.max, which.min\n",
      "\n",
      "Welcome to Bioconductor\n",
      "\n",
      "    Vignettes contain introductory material; view with\n",
      "    'browseVignettes()'. To cite Bioconductor, see\n",
      "    'citation(\"Biobase\")', and for packages 'citation(\"pkgname\")'.\n",
      "\n",
      "Loading required package: VGAM\n",
      "Loading required package: stats4\n",
      "Loading required package: splines\n",
      "Loading required package: DDRTree\n",
      "Loading required package: irlba\n"
     ]
    }
   ],
   "source": [
    "library(monocle)"
   ]
  },
  {
   "cell_type": "code",
   "execution_count": 10,
   "metadata": {},
   "outputs": [
    {
     "data": {
      "text/plain": [
       "[1] ‘2.8.0’"
      ]
     },
     "metadata": {},
     "output_type": "display_data"
    }
   ],
   "source": [
    "packageVersion('monocle')"
   ]
  },
  {
   "cell_type": "markdown",
   "metadata": {},
   "source": [
    "[10Xの公式](http://cf.10xgenomics.com)からデータをダウンロードする。"
   ]
  },
  {
   "cell_type": "code",
   "execution_count": 34,
   "metadata": {},
   "outputs": [],
   "source": [
    "download.file(\"http://cf.10xgenomics.com/samples/cell-exp/2.0.1/pbmc8k/pbmc8k_filtered_gene_bc_matrices.tar.gz\", \"pbmc8k_filtered_gene_bc_matrices.tar.gz\")"
   ]
  },
  {
   "cell_type": "code",
   "execution_count": 35,
   "metadata": {},
   "outputs": [
    {
     "data": {
      "text/html": [
       "<ol class=list-inline>\n",
       "\t<li>'R_monocle.ipynb'</li>\n",
       "\t<li>'Untitled.ipynb'</li>\n",
       "\t<li>'pbmc8k_filtered_gene_bc_matrices.tar.gz'</li>\n",
       "</ol>\n"
      ],
      "text/latex": [
       "\\begin{enumerate*}\n",
       "\\item 'R\\_monocle.ipynb'\n",
       "\\item 'Untitled.ipynb'\n",
       "\\item 'pbmc8k\\_filtered\\_gene\\_bc\\_matrices.tar.gz'\n",
       "\\end{enumerate*}\n"
      ],
      "text/markdown": [
       "1. 'R_monocle.ipynb'\n",
       "2. 'Untitled.ipynb'\n",
       "3. 'pbmc8k_filtered_gene_bc_matrices.tar.gz'\n",
       "\n",
       "\n"
      ],
      "text/plain": [
       "[1] \"R_monocle.ipynb\"                        \n",
       "[2] \"Untitled.ipynb\"                         \n",
       "[3] \"pbmc8k_filtered_gene_bc_matrices.tar.gz\""
      ]
     },
     "metadata": {},
     "output_type": "display_data"
    }
   ],
   "source": [
    "dir()"
   ]
  },
  {
   "cell_type": "code",
   "execution_count": 36,
   "metadata": {},
   "outputs": [],
   "source": [
    "untar(\"pbmc8k_filtered_gene_bc_matrices.tar.gz\")"
   ]
  },
  {
   "cell_type": "code",
   "execution_count": 37,
   "metadata": {},
   "outputs": [
    {
     "data": {
      "text/html": [
       "<ol class=list-inline>\n",
       "\t<li>'R_monocle.ipynb'</li>\n",
       "\t<li>'Untitled.ipynb'</li>\n",
       "\t<li>'filtered_gene_bc_matrices'</li>\n",
       "\t<li>'pbmc8k_filtered_gene_bc_matrices.tar.gz'</li>\n",
       "</ol>\n"
      ],
      "text/latex": [
       "\\begin{enumerate*}\n",
       "\\item 'R\\_monocle.ipynb'\n",
       "\\item 'Untitled.ipynb'\n",
       "\\item 'filtered\\_gene\\_bc\\_matrices'\n",
       "\\item 'pbmc8k\\_filtered\\_gene\\_bc\\_matrices.tar.gz'\n",
       "\\end{enumerate*}\n"
      ],
      "text/markdown": [
       "1. 'R_monocle.ipynb'\n",
       "2. 'Untitled.ipynb'\n",
       "3. 'filtered_gene_bc_matrices'\n",
       "4. 'pbmc8k_filtered_gene_bc_matrices.tar.gz'\n",
       "\n",
       "\n"
      ],
      "text/plain": [
       "[1] \"R_monocle.ipynb\"                        \n",
       "[2] \"Untitled.ipynb\"                         \n",
       "[3] \"filtered_gene_bc_matrices\"              \n",
       "[4] \"pbmc8k_filtered_gene_bc_matrices.tar.gz\""
      ]
     },
     "metadata": {},
     "output_type": "display_data"
    }
   ],
   "source": [
    "dir()"
   ]
  },
  {
   "cell_type": "markdown",
   "metadata": {},
   "source": [
    "### cellranger Rkit packageを導入"
   ]
  },
  {
   "cell_type": "code",
   "execution_count": 16,
   "metadata": {},
   "outputs": [
    {
     "name": "stderr",
     "output_type": "stream",
     "text": [
      "\n",
      "Cell Ranger R Kit Installer\n",
      "Copyright (c) 2016 10x Genomics, Inc. All rights reserved.\n",
      "----------------------------------------------------------\n"
     ]
    },
    {
     "name": "stdout",
     "output_type": "stream",
     "text": [
      "By continuing, you are agreeing to the EULA at: http://support.10xgenomics.com/license\n",
      "[ hit enter to continue ]\n",
      "\n"
     ]
    },
    {
     "name": "stderr",
     "output_type": "stream",
     "text": [
      "Bioconductor version 3.7 (BiocInstaller 1.30.0), ?biocLite for help\n",
      "BioC_mirror: https://bioconductor.org\n",
      "Using Bioconductor 3.7 (BiocInstaller 1.30.0), R 3.5.0 (2018-04-23).\n",
      "BioC_mirror: https://bioconductor.org\n",
      "Using Bioconductor 3.7 (BiocInstaller 1.30.0), R 3.5.0 (2018-04-23).\n",
      "Installing package(s) ‘rhdf5’\n",
      "Installing package into ‘/home/kimoton/R/x86_64-pc-linux-gnu-library/3.5’\n",
      "(as ‘lib’ is unspecified)\n",
      "Installing package into ‘/home/kimoton/R/x86_64-pc-linux-gnu-library/3.5’\n",
      "(as ‘lib’ is unspecified)\n",
      "Installing package into ‘/home/kimoton/R/x86_64-pc-linux-gnu-library/3.5’\n",
      "(as ‘lib’ is unspecified)\n",
      "Installing package into ‘/home/kimoton/R/x86_64-pc-linux-gnu-library/3.5’\n",
      "(as ‘lib’ is unspecified)\n",
      "Installing package into ‘/home/kimoton/R/x86_64-pc-linux-gnu-library/3.5’\n",
      "(as ‘lib’ is unspecified)\n",
      "Installing package into ‘/home/kimoton/R/x86_64-pc-linux-gnu-library/3.5’\n",
      "(as ‘lib’ is unspecified)\n",
      "Installing package into ‘/home/kimoton/R/x86_64-pc-linux-gnu-library/3.5’\n",
      "(as ‘lib’ is unspecified)\n",
      "Installing package into ‘/home/kimoton/R/x86_64-pc-linux-gnu-library/3.5’\n",
      "(as ‘lib’ is unspecified)\n",
      "Installing package into ‘/home/kimoton/R/x86_64-pc-linux-gnu-library/3.5’\n",
      "(as ‘lib’ is unspecified)\n"
     ]
    }
   ],
   "source": [
    "source(\"http://cf.10xgenomics.com/supp/cell-exp/rkit-install-2.0.0.R\")"
   ]
  },
  {
   "cell_type": "code",
   "execution_count": 23,
   "metadata": {},
   "outputs": [
    {
     "name": "stderr",
     "output_type": "stream",
     "text": [
      "Loading required package: RColorBrewer\n",
      "Loading required package: bit64\n",
      "Loading required package: bit\n",
      "Attaching package bit\n",
      "package:bit (c) 2008-2012 Jens Oehlschlaegel (GPL-2)\n",
      "creators: bit bitwhich\n",
      "coercion: as.logical as.integer as.bit as.bitwhich which\n",
      "operator: ! & | xor != ==\n",
      "querying: print length any all min max range sum summary\n",
      "bit access: length<- [ [<- [[ [[<-\n",
      "for more help type ?bit\n",
      "\n",
      "Attaching package: ‘bit’\n",
      "\n",
      "The following object is masked from ‘package:base’:\n",
      "\n",
      "    xor\n",
      "\n",
      "Attaching package bit64\n",
      "package:bit64 (c) 2011-2012 Jens Oehlschlaegel\n",
      "creators: integer64 seq :\n",
      "coercion: as.integer64 as.vector as.logical as.integer as.double as.character as.bin\n",
      "logical operator: ! & | xor != == < <= >= >\n",
      "arithmetic operator: + - * / %/% %% ^\n",
      "math: sign abs sqrt log log2 log10\n",
      "math: floor ceiling trunc round\n",
      "querying: is.integer64 is.vector [is.atomic} [length] format print str\n",
      "values: is.na is.nan is.finite is.infinite\n",
      "aggregation: any all min max range sum prod\n",
      "cumulation: diff cummin cummax cumsum cumprod\n",
      "access: length<- [ [<- [[ [[<-\n",
      "combine: c rep cbind rbind as.data.frame\n",
      "WARNING don't use as subscripts\n",
      "WARNING semantics differ from integer\n",
      "for more help type ?bit64\n",
      "\n",
      "Attaching package: ‘bit64’\n",
      "\n",
      "The following object is masked from ‘package:bit’:\n",
      "\n",
      "    still.identical\n",
      "\n",
      "The following object is masked from ‘package:Biobase’:\n",
      "\n",
      "    cache\n",
      "\n",
      "The following objects are masked from ‘package:BiocGenerics’:\n",
      "\n",
      "    match, order, rank\n",
      "\n",
      "The following objects are masked from ‘package:base’:\n",
      "\n",
      "    %in%, :, is.double, match, order, rank\n",
      "\n",
      "Loading required package: Rmisc\n",
      "Loading required package: lattice\n",
      "Loading required package: plyr\n"
     ]
    }
   ],
   "source": [
    "library(cellrangerRkit)\n"
   ]
  },
  {
   "cell_type": "markdown",
   "metadata": {},
   "source": [
    "出力ディレクトリの作成と、入力データの移行"
   ]
  },
  {
   "cell_type": "code",
   "execution_count": 41,
   "metadata": {},
   "outputs": [
    {
     "data": {
      "text/html": [],
      "text/latex": [],
      "text/markdown": [],
      "text/plain": [
       "character(0)"
      ]
     },
     "metadata": {},
     "output_type": "display_data"
    }
   ],
   "source": [
    "system('mv filtered_gene_bc_matrices outs', intern=TRUE)"
   ]
  },
  {
   "cell_type": "code",
   "execution_count": 42,
   "metadata": {},
   "outputs": [
    {
     "data": {
      "text/html": [
       "<ol class=list-inline>\n",
       "\t<li>'R_monocle.ipynb'</li>\n",
       "\t<li>'Untitled.ipynb'</li>\n",
       "\t<li>'outs'</li>\n",
       "\t<li>'pbmc8k_filtered_gene_bc_matrices.tar.gz'</li>\n",
       "</ol>\n"
      ],
      "text/latex": [
       "\\begin{enumerate*}\n",
       "\\item 'R\\_monocle.ipynb'\n",
       "\\item 'Untitled.ipynb'\n",
       "\\item 'outs'\n",
       "\\item 'pbmc8k\\_filtered\\_gene\\_bc\\_matrices.tar.gz'\n",
       "\\end{enumerate*}\n"
      ],
      "text/markdown": [
       "1. 'R_monocle.ipynb'\n",
       "2. 'Untitled.ipynb'\n",
       "3. 'outs'\n",
       "4. 'pbmc8k_filtered_gene_bc_matrices.tar.gz'\n",
       "\n",
       "\n"
      ],
      "text/plain": [
       "[1] \"R_monocle.ipynb\"                        \n",
       "[2] \"Untitled.ipynb\"                         \n",
       "[3] \"outs\"                                   \n",
       "[4] \"pbmc8k_filtered_gene_bc_matrices.tar.gz\""
      ]
     },
     "metadata": {},
     "output_type": "display_data"
    }
   ],
   "source": [
    "dir()"
   ]
  },
  {
   "cell_type": "code",
   "execution_count": 43,
   "metadata": {},
   "outputs": [
    {
     "name": "stdout",
     "output_type": "stream",
     "text": [
      "Searching for genomes in: ./outs/filtered_gene_bc_matrices \n",
      "Using GRCh38 in folder: ./outs/filtered_gene_bc_matrices/GRCh38 \n",
      "Loaded matrix information\n",
      "Loaded gene information\n",
      "Loaded barcode information\n",
      "Could not find summary csv: \n",
      "\t ./outs/metrics_summary.csv.\n",
      "This file is only necessary if you are performing depth-normalization (calling the equalize_gbms function) in R.\n",
      "If this pipestance was produced by `cellranger aggr` with the default parameters, depth-normalization in R (via equalize_gbms) is not necessary.\n"
     ]
    }
   ],
   "source": [
    "data.dir <- \".\"\n",
    "\n",
    "gbm <- load_cellranger_matrix(data.dir)"
   ]
  },
  {
   "cell_type": "code",
   "execution_count": 44,
   "metadata": {},
   "outputs": [
    {
     "data": {
      "text/html": [
       "'GeneBCMatrix'"
      ],
      "text/latex": [
       "'GeneBCMatrix'"
      ],
      "text/markdown": [
       "'GeneBCMatrix'"
      ],
      "text/plain": [
       "[1] \"GeneBCMatrix\"\n",
       "attr(,\"package\")\n",
       "[1] \"cellrangerRkit\""
      ]
     },
     "metadata": {},
     "output_type": "display_data"
    }
   ],
   "source": [
    "class(gbm)"
   ]
  },
  {
   "cell_type": "markdown",
   "metadata": {},
   "source": [
    "遺伝子数、細胞数を見るには、`dim`を使う。"
   ]
  },
  {
   "cell_type": "code",
   "execution_count": 45,
   "metadata": {},
   "outputs": [
    {
     "data": {
      "text/html": [
       "<ol class=list-inline>\n",
       "\t<li>33694</li>\n",
       "\t<li>8381</li>\n",
       "</ol>\n"
      ],
      "text/latex": [
       "\\begin{enumerate*}\n",
       "\\item 33694\n",
       "\\item 8381\n",
       "\\end{enumerate*}\n"
      ],
      "text/markdown": [
       "1. 33694\n",
       "2. 8381\n",
       "\n",
       "\n"
      ],
      "text/plain": [
       "[1] 33694  8381"
      ]
     },
     "metadata": {},
     "output_type": "display_data"
    }
   ],
   "source": [
    "dim(exprs(gbm))"
   ]
  },
  {
   "cell_type": "code",
   "execution_count": 46,
   "metadata": {},
   "outputs": [
    {
     "data": {
      "text/plain": [
       "5 x 5 sparse Matrix of class \"dgTMatrix\"\n",
       "                AAACCTGAGCATCATC-1 AAACCTGAGCTAACTC-1 AAACCTGAGCTAGTGG-1\n",
       "ENSG00000243485                  .                  .                  .\n",
       "ENSG00000237613                  .                  .                  .\n",
       "ENSG00000186092                  .                  .                  .\n",
       "ENSG00000238009                  .                  .                  .\n",
       "ENSG00000239945                  .                  .                  .\n",
       "                AAACCTGCACATTAGC-1 AAACCTGCACTGTTAG-1\n",
       "ENSG00000243485                  .                  .\n",
       "ENSG00000237613                  .                  .\n",
       "ENSG00000186092                  .                  .\n",
       "ENSG00000238009                  .                  .\n",
       "ENSG00000239945                  .                  ."
      ]
     },
     "metadata": {},
     "output_type": "display_data"
    }
   ],
   "source": [
    "exprs(gbm)[1:5, 1:5]"
   ]
  },
  {
   "cell_type": "markdown",
   "metadata": {},
   "source": [
    "オブジェクト作成直後はphenotyoe Data(pData)は1つ（barcode）しか持たない。"
   ]
  },
  {
   "cell_type": "code",
   "execution_count": 51,
   "metadata": {},
   "outputs": [
    {
     "data": {
      "text/html": [
       "<ol class=list-inline>\n",
       "\t<li>8381</li>\n",
       "\t<li>1</li>\n",
       "</ol>\n"
      ],
      "text/latex": [
       "\\begin{enumerate*}\n",
       "\\item 8381\n",
       "\\item 1\n",
       "\\end{enumerate*}\n"
      ],
      "text/markdown": [
       "1. 8381\n",
       "2. 1\n",
       "\n",
       "\n"
      ],
      "text/plain": [
       "[1] 8381    1"
      ]
     },
     "metadata": {},
     "output_type": "display_data"
    }
   ],
   "source": [
    "dim(pData(gbm))"
   ]
  },
  {
   "cell_type": "code",
   "execution_count": 52,
   "metadata": {},
   "outputs": [
    {
     "data": {
      "text/html": [
       "<table>\n",
       "<thead><tr><th></th><th scope=col>barcode</th></tr></thead>\n",
       "<tbody>\n",
       "\t<tr><th scope=row>AAACCTGAGCATCATC-1</th><td>AAACCTGAGCATCATC-1</td></tr>\n",
       "\t<tr><th scope=row>AAACCTGAGCTAACTC-1</th><td>AAACCTGAGCTAACTC-1</td></tr>\n",
       "\t<tr><th scope=row>AAACCTGAGCTAGTGG-1</th><td>AAACCTGAGCTAGTGG-1</td></tr>\n",
       "\t<tr><th scope=row>AAACCTGCACATTAGC-1</th><td>AAACCTGCACATTAGC-1</td></tr>\n",
       "\t<tr><th scope=row>AAACCTGCACTGTTAG-1</th><td>AAACCTGCACTGTTAG-1</td></tr>\n",
       "\t<tr><th scope=row>AAACCTGCATAGTAAG-1</th><td>AAACCTGCATAGTAAG-1</td></tr>\n",
       "</tbody>\n",
       "</table>\n"
      ],
      "text/latex": [
       "\\begin{tabular}{r|l}\n",
       "  & barcode\\\\\n",
       "\\hline\n",
       "\tAAACCTGAGCATCATC-1 & AAACCTGAGCATCATC-1\\\\\n",
       "\tAAACCTGAGCTAACTC-1 & AAACCTGAGCTAACTC-1\\\\\n",
       "\tAAACCTGAGCTAGTGG-1 & AAACCTGAGCTAGTGG-1\\\\\n",
       "\tAAACCTGCACATTAGC-1 & AAACCTGCACATTAGC-1\\\\\n",
       "\tAAACCTGCACTGTTAG-1 & AAACCTGCACTGTTAG-1\\\\\n",
       "\tAAACCTGCATAGTAAG-1 & AAACCTGCATAGTAAG-1\\\\\n",
       "\\end{tabular}\n"
      ],
      "text/markdown": [
       "\n",
       "| <!--/--> | barcode | \n",
       "|---|---|---|---|---|---|\n",
       "| AAACCTGAGCATCATC-1 | AAACCTGAGCATCATC-1 | \n",
       "| AAACCTGAGCTAACTC-1 | AAACCTGAGCTAACTC-1 | \n",
       "| AAACCTGAGCTAGTGG-1 | AAACCTGAGCTAGTGG-1 | \n",
       "| AAACCTGCACATTAGC-1 | AAACCTGCACATTAGC-1 | \n",
       "| AAACCTGCACTGTTAG-1 | AAACCTGCACTGTTAG-1 | \n",
       "| AAACCTGCATAGTAAG-1 | AAACCTGCATAGTAAG-1 | \n",
       "\n",
       "\n"
      ],
      "text/plain": [
       "                   barcode           \n",
       "AAACCTGAGCATCATC-1 AAACCTGAGCATCATC-1\n",
       "AAACCTGAGCTAACTC-1 AAACCTGAGCTAACTC-1\n",
       "AAACCTGAGCTAGTGG-1 AAACCTGAGCTAGTGG-1\n",
       "AAACCTGCACATTAGC-1 AAACCTGCACATTAGC-1\n",
       "AAACCTGCACTGTTAG-1 AAACCTGCACTGTTAG-1\n",
       "AAACCTGCATAGTAAG-1 AAACCTGCATAGTAAG-1"
      ]
     },
     "metadata": {},
     "output_type": "display_data"
    }
   ],
   "source": [
    "head(pData(gbm))"
   ]
  },
  {
   "cell_type": "markdown",
   "metadata": {},
   "source": [
    "fData(feature information) は2つ持つ。"
   ]
  },
  {
   "cell_type": "code",
   "execution_count": 57,
   "metadata": {},
   "outputs": [
    {
     "data": {
      "text/html": [
       "<ol class=list-inline>\n",
       "\t<li>33694</li>\n",
       "\t<li>2</li>\n",
       "</ol>\n"
      ],
      "text/latex": [
       "\\begin{enumerate*}\n",
       "\\item 33694\n",
       "\\item 2\n",
       "\\end{enumerate*}\n"
      ],
      "text/markdown": [
       "1. 33694\n",
       "2. 2\n",
       "\n",
       "\n"
      ],
      "text/plain": [
       "[1] 33694     2"
      ]
     },
     "metadata": {},
     "output_type": "display_data"
    }
   ],
   "source": [
    "dim(fData(gbm))"
   ]
  },
  {
   "cell_type": "code",
   "execution_count": 58,
   "metadata": {
    "scrolled": true
   },
   "outputs": [
    {
     "data": {
      "text/html": [
       "<table>\n",
       "<thead><tr><th></th><th scope=col>id</th><th scope=col>symbol</th></tr></thead>\n",
       "<tbody>\n",
       "\t<tr><th scope=row>ENSG00000243485</th><td>ENSG00000243485</td><td>RP11-34P13.3   </td></tr>\n",
       "\t<tr><th scope=row>ENSG00000237613</th><td>ENSG00000237613</td><td>FAM138A        </td></tr>\n",
       "\t<tr><th scope=row>ENSG00000186092</th><td>ENSG00000186092</td><td>OR4F5          </td></tr>\n",
       "\t<tr><th scope=row>ENSG00000238009</th><td>ENSG00000238009</td><td>RP11-34P13.7   </td></tr>\n",
       "\t<tr><th scope=row>ENSG00000239945</th><td>ENSG00000239945</td><td>RP11-34P13.8   </td></tr>\n",
       "\t<tr><th scope=row>ENSG00000239906</th><td>ENSG00000239906</td><td>RP11-34P13.14  </td></tr>\n",
       "</tbody>\n",
       "</table>\n"
      ],
      "text/latex": [
       "\\begin{tabular}{r|ll}\n",
       "  & id & symbol\\\\\n",
       "\\hline\n",
       "\tENSG00000243485 & ENSG00000243485 & RP11-34P13.3   \\\\\n",
       "\tENSG00000237613 & ENSG00000237613 & FAM138A        \\\\\n",
       "\tENSG00000186092 & ENSG00000186092 & OR4F5          \\\\\n",
       "\tENSG00000238009 & ENSG00000238009 & RP11-34P13.7   \\\\\n",
       "\tENSG00000239945 & ENSG00000239945 & RP11-34P13.8   \\\\\n",
       "\tENSG00000239906 & ENSG00000239906 & RP11-34P13.14  \\\\\n",
       "\\end{tabular}\n"
      ],
      "text/markdown": [
       "\n",
       "| <!--/--> | id | symbol | \n",
       "|---|---|---|---|---|---|\n",
       "| ENSG00000243485 | ENSG00000243485 | RP11-34P13.3    | \n",
       "| ENSG00000237613 | ENSG00000237613 | FAM138A         | \n",
       "| ENSG00000186092 | ENSG00000186092 | OR4F5           | \n",
       "| ENSG00000238009 | ENSG00000238009 | RP11-34P13.7    | \n",
       "| ENSG00000239945 | ENSG00000239945 | RP11-34P13.8    | \n",
       "| ENSG00000239906 | ENSG00000239906 | RP11-34P13.14   | \n",
       "\n",
       "\n"
      ],
      "text/plain": [
       "                id              symbol       \n",
       "ENSG00000243485 ENSG00000243485 RP11-34P13.3 \n",
       "ENSG00000237613 ENSG00000237613 FAM138A      \n",
       "ENSG00000186092 ENSG00000186092 OR4F5        \n",
       "ENSG00000238009 ENSG00000238009 RP11-34P13.7 \n",
       "ENSG00000239945 ENSG00000239945 RP11-34P13.8 \n",
       "ENSG00000239906 ENSG00000239906 RP11-34P13.14"
      ]
     },
     "metadata": {},
     "output_type": "display_data"
    }
   ],
   "source": [
    "head(fData(gbm))"
   ]
  },
  {
   "cell_type": "markdown",
   "metadata": {},
   "source": [
    "`newCellDataSet()` で新しい`CellDataSet`オブジェクトを作成する。"
   ]
  },
  {
   "cell_type": "code",
   "execution_count": 60,
   "metadata": {},
   "outputs": [
    {
     "name": "stderr",
     "output_type": "stream",
     "text": [
      "Warning message in newCellDataSet(exprs(gbm), phenoData = new(\"AnnotatedDataFrame\", :\n",
      "“Warning: featureData must contain a column verbatim named 'gene_short_name' for certain functions”Warning message in newCellDataSet(exprs(gbm), phenoData = new(\"AnnotatedDataFrame\", :\n",
      "“Warning: featureData must contain a column verbatim named 'gene_short_name' for certain functions”Warning message in newCellDataSet(exprs(gbm), phenoData = new(\"AnnotatedDataFrame\", :\n",
      "“Warning: featureData must contain a column verbatim named 'gene_short_name' for certain functions”"
     ]
    }
   ],
   "source": [
    "my_cds <- newCellDataSet(exprs(gbm),\n",
    "                         phenoData = new(\"AnnotatedDataFrame\", data = pData(gbm)),\n",
    "                         featureData = new(\"AnnotatedDataFrame\", data = fData(gbm)),\n",
    "                         lowerDetectionLimit = 0.5,\n",
    "                         expressionFamily = negbinomial.size())"
   ]
  },
  {
   "cell_type": "code",
   "execution_count": 61,
   "metadata": {},
   "outputs": [],
   "source": [
    "my_feat <- fData(gbm)\n",
    "names(my_feat) <- c('id', 'gene_short_name')\n",
    " \n",
    "# no warning\n",
    "my_cds <- newCellDataSet(exprs(gbm),\n",
    "                         phenoData = new(\"AnnotatedDataFrame\", data = pData(gbm)),\n",
    "                         featureData = new(\"AnnotatedDataFrame\", data = my_feat),\n",
    "                         lowerDetectionLimit = 0.5,\n",
    "                         expressionFamily = negbinomial.size())"
   ]
  },
  {
   "cell_type": "code",
   "execution_count": 62,
   "metadata": {},
   "outputs": [
    {
     "data": {
      "text/plain": [
       "CellDataSet (storageMode: environment)\n",
       "assayData: 33694 features, 8381 samples \n",
       "  element names: exprs \n",
       "protocolData: none\n",
       "phenoData\n",
       "  sampleNames: AAACCTGAGCATCATC-1 AAACCTGAGCTAACTC-1 ...\n",
       "    TTTGTCATCTGCTTGC-1 (8381 total)\n",
       "  varLabels: barcode Size_Factor\n",
       "  varMetadata: labelDescription\n",
       "featureData\n",
       "  featureNames: ENSG00000243485 ENSG00000237613 ... ENSG00000268674\n",
       "    (33694 total)\n",
       "  fvarLabels: id gene_short_name\n",
       "  fvarMetadata: labelDescription\n",
       "experimentData: use 'experimentData(object)'\n",
       "Annotation:  "
      ]
     },
     "metadata": {},
     "output_type": "display_data"
    }
   ],
   "source": [
    "my_cds"
   ]
  },
  {
   "cell_type": "code",
   "execution_count": 63,
   "metadata": {},
   "outputs": [
    {
     "data": {
      "text/html": [
       "'CellDataSet'"
      ],
      "text/latex": [
       "'CellDataSet'"
      ],
      "text/markdown": [
       "'CellDataSet'"
      ],
      "text/plain": [
       "[1] \"CellDataSet\"\n",
       "attr(,\"package\")\n",
       "[1] \"monocle\""
      ]
     },
     "metadata": {},
     "output_type": "display_data"
    }
   ],
   "source": [
    "class(my_cds)"
   ]
  },
  {
   "cell_type": "code",
   "execution_count": 65,
   "metadata": {},
   "outputs": [
    {
     "data": {
      "text/html": [
       "<ol class=list-inline>\n",
       "\t<li>'reducedDimS'</li>\n",
       "\t<li>'reducedDimW'</li>\n",
       "\t<li>'reducedDimA'</li>\n",
       "\t<li>'reducedDimK'</li>\n",
       "\t<li>'minSpanningTree'</li>\n",
       "\t<li>'cellPairwiseDistances'</li>\n",
       "\t<li>'expressionFamily'</li>\n",
       "\t<li>'lowerDetectionLimit'</li>\n",
       "\t<li>'dispFitInfo'</li>\n",
       "\t<li>'dim_reduce_type'</li>\n",
       "\t<li>'auxOrderingData'</li>\n",
       "\t<li>'auxClusteringData'</li>\n",
       "\t<li>'experimentData'</li>\n",
       "\t<li>'assayData'</li>\n",
       "\t<li>'phenoData'</li>\n",
       "\t<li>'featureData'</li>\n",
       "\t<li>'annotation'</li>\n",
       "\t<li>'protocolData'</li>\n",
       "\t<li>'.__classVersion__'</li>\n",
       "</ol>\n"
      ],
      "text/latex": [
       "\\begin{enumerate*}\n",
       "\\item 'reducedDimS'\n",
       "\\item 'reducedDimW'\n",
       "\\item 'reducedDimA'\n",
       "\\item 'reducedDimK'\n",
       "\\item 'minSpanningTree'\n",
       "\\item 'cellPairwiseDistances'\n",
       "\\item 'expressionFamily'\n",
       "\\item 'lowerDetectionLimit'\n",
       "\\item 'dispFitInfo'\n",
       "\\item 'dim\\_reduce\\_type'\n",
       "\\item 'auxOrderingData'\n",
       "\\item 'auxClusteringData'\n",
       "\\item 'experimentData'\n",
       "\\item 'assayData'\n",
       "\\item 'phenoData'\n",
       "\\item 'featureData'\n",
       "\\item 'annotation'\n",
       "\\item 'protocolData'\n",
       "\\item '.\\_\\_classVersion\\_\\_'\n",
       "\\end{enumerate*}\n"
      ],
      "text/markdown": [
       "1. 'reducedDimS'\n",
       "2. 'reducedDimW'\n",
       "3. 'reducedDimA'\n",
       "4. 'reducedDimK'\n",
       "5. 'minSpanningTree'\n",
       "6. 'cellPairwiseDistances'\n",
       "7. 'expressionFamily'\n",
       "8. 'lowerDetectionLimit'\n",
       "9. 'dispFitInfo'\n",
       "10. 'dim_reduce_type'\n",
       "11. 'auxOrderingData'\n",
       "12. 'auxClusteringData'\n",
       "13. 'experimentData'\n",
       "14. 'assayData'\n",
       "15. 'phenoData'\n",
       "16. 'featureData'\n",
       "17. 'annotation'\n",
       "18. 'protocolData'\n",
       "19. '.__classVersion__'\n",
       "\n",
       "\n"
      ],
      "text/plain": [
       " [1] \"reducedDimS\"           \"reducedDimW\"           \"reducedDimA\"          \n",
       " [4] \"reducedDimK\"           \"minSpanningTree\"       \"cellPairwiseDistances\"\n",
       " [7] \"expressionFamily\"      \"lowerDetectionLimit\"   \"dispFitInfo\"          \n",
       "[10] \"dim_reduce_type\"       \"auxOrderingData\"       \"auxClusteringData\"    \n",
       "[13] \"experimentData\"        \"assayData\"             \"phenoData\"            \n",
       "[16] \"featureData\"           \"annotation\"            \"protocolData\"         \n",
       "[19] \".__classVersion__\"    "
      ]
     },
     "metadata": {},
     "output_type": "display_data"
    }
   ],
   "source": [
    "slotNames(my_cds)"
   ]
  },
  {
   "cell_type": "code",
   "execution_count": 66,
   "metadata": {},
   "outputs": [
    {
     "name": "stderr",
     "output_type": "stream",
     "text": [
      "Removing 146 outliers\n"
     ]
    }
   ],
   "source": [
    "my_cds <- estimateSizeFactors(my_cds)\n",
    "my_cds <- estimateDispersions(my_cds)"
   ]
  },
  {
   "cell_type": "markdown",
   "metadata": {},
   "source": [
    "nGene"
   ]
  },
  {
   "cell_type": "code",
   "execution_count": 67,
   "metadata": {},
   "outputs": [],
   "source": [
    "my_cds <- detectGenes(my_cds, min_expr = 0.1)"
   ]
  },
  {
   "cell_type": "code",
   "execution_count": 68,
   "metadata": {},
   "outputs": [
    {
     "data": {
      "text/html": [
       "<table>\n",
       "<thead><tr><th></th><th scope=col>id</th><th scope=col>gene_short_name</th><th scope=col>num_cells_expressed</th></tr></thead>\n",
       "<tbody>\n",
       "\t<tr><th scope=row>ENSG00000243485</th><td>ENSG00000243485</td><td>RP11-34P13.3   </td><td> 0             </td></tr>\n",
       "\t<tr><th scope=row>ENSG00000237613</th><td>ENSG00000237613</td><td>FAM138A        </td><td> 0             </td></tr>\n",
       "\t<tr><th scope=row>ENSG00000186092</th><td>ENSG00000186092</td><td>OR4F5          </td><td> 0             </td></tr>\n",
       "\t<tr><th scope=row>ENSG00000238009</th><td>ENSG00000238009</td><td>RP11-34P13.7   </td><td>24             </td></tr>\n",
       "\t<tr><th scope=row>ENSG00000239945</th><td>ENSG00000239945</td><td>RP11-34P13.8   </td><td> 1             </td></tr>\n",
       "\t<tr><th scope=row>ENSG00000239906</th><td>ENSG00000239906</td><td>RP11-34P13.14  </td><td> 0             </td></tr>\n",
       "</tbody>\n",
       "</table>\n"
      ],
      "text/latex": [
       "\\begin{tabular}{r|lll}\n",
       "  & id & gene\\_short\\_name & num\\_cells\\_expressed\\\\\n",
       "\\hline\n",
       "\tENSG00000243485 & ENSG00000243485 & RP11-34P13.3    &  0             \\\\\n",
       "\tENSG00000237613 & ENSG00000237613 & FAM138A         &  0             \\\\\n",
       "\tENSG00000186092 & ENSG00000186092 & OR4F5           &  0             \\\\\n",
       "\tENSG00000238009 & ENSG00000238009 & RP11-34P13.7    & 24             \\\\\n",
       "\tENSG00000239945 & ENSG00000239945 & RP11-34P13.8    &  1             \\\\\n",
       "\tENSG00000239906 & ENSG00000239906 & RP11-34P13.14   &  0             \\\\\n",
       "\\end{tabular}\n"
      ],
      "text/markdown": [
       "\n",
       "| <!--/--> | id | gene_short_name | num_cells_expressed | \n",
       "|---|---|---|---|---|---|\n",
       "| ENSG00000243485 | ENSG00000243485 | RP11-34P13.3    |  0              | \n",
       "| ENSG00000237613 | ENSG00000237613 | FAM138A         |  0              | \n",
       "| ENSG00000186092 | ENSG00000186092 | OR4F5           |  0              | \n",
       "| ENSG00000238009 | ENSG00000238009 | RP11-34P13.7    | 24              | \n",
       "| ENSG00000239945 | ENSG00000239945 | RP11-34P13.8    |  1              | \n",
       "| ENSG00000239906 | ENSG00000239906 | RP11-34P13.14   |  0              | \n",
       "\n",
       "\n"
      ],
      "text/plain": [
       "                id              gene_short_name num_cells_expressed\n",
       "ENSG00000243485 ENSG00000243485 RP11-34P13.3     0                 \n",
       "ENSG00000237613 ENSG00000237613 FAM138A          0                 \n",
       "ENSG00000186092 ENSG00000186092 OR4F5            0                 \n",
       "ENSG00000238009 ENSG00000238009 RP11-34P13.7    24                 \n",
       "ENSG00000239945 ENSG00000239945 RP11-34P13.8     1                 \n",
       "ENSG00000239906 ENSG00000239906 RP11-34P13.14    0                 "
      ]
     },
     "metadata": {},
     "output_type": "display_data"
    }
   ],
   "source": [
    "head(fData(my_cds))"
   ]
  },
  {
   "cell_type": "code",
   "execution_count": 69,
   "metadata": {},
   "outputs": [
    {
     "data": {
      "text/plain": [
       "   Min. 1st Qu.  Median    Mean 3rd Qu.    Max. \n",
       "    0.0     0.0     5.0   349.9   234.0  8381.0 "
      ]
     },
     "metadata": {},
     "output_type": "display_data"
    }
   ],
   "source": [
    "summary(fData(my_cds)$num_cells_expressed)"
   ]
  },
  {
   "cell_type": "markdown",
   "metadata": {},
   "source": [
    "nGeneは`exprs`で取り出せる。"
   ]
  },
  {
   "cell_type": "code",
   "execution_count": 70,
   "metadata": {},
   "outputs": [
    {
     "data": {
      "text/html": [
       "1"
      ],
      "text/latex": [
       "1"
      ],
      "text/markdown": [
       "1"
      ],
      "text/plain": [
       "[1] 1"
      ]
     },
     "metadata": {},
     "output_type": "display_data"
    }
   ],
   "source": [
    "sum((exprs(my_cds['ENSG00000239945',])))"
   ]
  },
  {
   "cell_type": "code",
   "execution_count": 71,
   "metadata": {},
   "outputs": [
    {
     "data": {
      "text/html": [
       "24"
      ],
      "text/latex": [
       "24"
      ],
      "text/markdown": [
       "24"
      ],
      "text/plain": [
       "[1] 24"
      ]
     },
     "metadata": {},
     "output_type": "display_data"
    }
   ],
   "source": [
    "sum((exprs(my_cds['ENSG00000238009',])))"
   ]
  },
  {
   "cell_type": "code",
   "execution_count": 72,
   "metadata": {},
   "outputs": [
    {
     "data": {
      "text/html": [
       "<table>\n",
       "<thead><tr><th></th><th scope=col>barcode</th><th scope=col>Size_Factor</th><th scope=col>num_genes_expressed</th></tr></thead>\n",
       "<tbody>\n",
       "\t<tr><th scope=row>AAACCTGAGCATCATC-1</th><td>AAACCTGAGCATCATC-1</td><td>0.5672842         </td><td> 871              </td></tr>\n",
       "\t<tr><th scope=row>AAACCTGAGCTAACTC-1</th><td>AAACCTGAGCTAACTC-1</td><td>0.4014116         </td><td> 806              </td></tr>\n",
       "\t<tr><th scope=row>AAACCTGAGCTAGTGG-1</th><td>AAACCTGAGCTAGTGG-1</td><td>1.0710628         </td><td>1316              </td></tr>\n",
       "\t<tr><th scope=row>AAACCTGCACATTAGC-1</th><td>AAACCTGCACATTAGC-1</td><td>0.6606467         </td><td> 898              </td></tr>\n",
       "\t<tr><th scope=row>AAACCTGCACTGTTAG-1</th><td>AAACCTGCACTGTTAG-1</td><td>1.1058961         </td><td>1526              </td></tr>\n",
       "\t<tr><th scope=row>AAACCTGCATAGTAAG-1</th><td>AAACCTGCATAGTAAG-1</td><td>1.0521060         </td><td>1495              </td></tr>\n",
       "</tbody>\n",
       "</table>\n"
      ],
      "text/latex": [
       "\\begin{tabular}{r|lll}\n",
       "  & barcode & Size\\_Factor & num\\_genes\\_expressed\\\\\n",
       "\\hline\n",
       "\tAAACCTGAGCATCATC-1 & AAACCTGAGCATCATC-1 & 0.5672842          &  871              \\\\\n",
       "\tAAACCTGAGCTAACTC-1 & AAACCTGAGCTAACTC-1 & 0.4014116          &  806              \\\\\n",
       "\tAAACCTGAGCTAGTGG-1 & AAACCTGAGCTAGTGG-1 & 1.0710628          & 1316              \\\\\n",
       "\tAAACCTGCACATTAGC-1 & AAACCTGCACATTAGC-1 & 0.6606467          &  898              \\\\\n",
       "\tAAACCTGCACTGTTAG-1 & AAACCTGCACTGTTAG-1 & 1.1058961          & 1526              \\\\\n",
       "\tAAACCTGCATAGTAAG-1 & AAACCTGCATAGTAAG-1 & 1.0521060          & 1495              \\\\\n",
       "\\end{tabular}\n"
      ],
      "text/markdown": [
       "\n",
       "| <!--/--> | barcode | Size_Factor | num_genes_expressed | \n",
       "|---|---|---|---|---|---|\n",
       "| AAACCTGAGCATCATC-1 | AAACCTGAGCATCATC-1 | 0.5672842          |  871               | \n",
       "| AAACCTGAGCTAACTC-1 | AAACCTGAGCTAACTC-1 | 0.4014116          |  806               | \n",
       "| AAACCTGAGCTAGTGG-1 | AAACCTGAGCTAGTGG-1 | 1.0710628          | 1316               | \n",
       "| AAACCTGCACATTAGC-1 | AAACCTGCACATTAGC-1 | 0.6606467          |  898               | \n",
       "| AAACCTGCACTGTTAG-1 | AAACCTGCACTGTTAG-1 | 1.1058961          | 1526               | \n",
       "| AAACCTGCATAGTAAG-1 | AAACCTGCATAGTAAG-1 | 1.0521060          | 1495               | \n",
       "\n",
       "\n"
      ],
      "text/plain": [
       "                   barcode            Size_Factor num_genes_expressed\n",
       "AAACCTGAGCATCATC-1 AAACCTGAGCATCATC-1 0.5672842    871               \n",
       "AAACCTGAGCTAACTC-1 AAACCTGAGCTAACTC-1 0.4014116    806               \n",
       "AAACCTGAGCTAGTGG-1 AAACCTGAGCTAGTGG-1 1.0710628   1316               \n",
       "AAACCTGCACATTAGC-1 AAACCTGCACATTAGC-1 0.6606467    898               \n",
       "AAACCTGCACTGTTAG-1 AAACCTGCACTGTTAG-1 1.1058961   1526               \n",
       "AAACCTGCATAGTAAG-1 AAACCTGCATAGTAAG-1 1.0521060   1495               "
      ]
     },
     "metadata": {},
     "output_type": "display_data"
    }
   ],
   "source": [
    "head(pData(my_cds))"
   ]
  },
  {
   "cell_type": "markdown",
   "metadata": {},
   "source": [
    "UMI数に関係なく、発現していれば1ずつカウントされている。"
   ]
  },
  {
   "cell_type": "code",
   "execution_count": 73,
   "metadata": {},
   "outputs": [
    {
     "data": {
      "text/plain": [
       "   Min. 1st Qu.  Median    Mean 3rd Qu.    Max. \n",
       "    502    1111    1297    1407    1548    4800 "
      ]
     },
     "metadata": {},
     "output_type": "display_data"
    }
   ],
   "source": [
    "summary(pData(my_cds)$num_genes_expressed)"
   ]
  },
  {
   "cell_type": "markdown",
   "metadata": {},
   "source": [
    "正規分布になるように正規化する。"
   ]
  },
  {
   "cell_type": "code",
   "execution_count": 74,
   "metadata": {},
   "outputs": [],
   "source": [
    "x <- pData(my_cds)$num_genes_expressed"
   ]
  },
  {
   "cell_type": "code",
   "execution_count": 75,
   "metadata": {},
   "outputs": [],
   "source": [
    "x_1 <- (x - mean(x)) / sd(x)"
   ]
  },
  {
   "cell_type": "code",
   "execution_count": 76,
   "metadata": {},
   "outputs": [
    {
     "data": {
      "text/plain": [
       "   Min. 1st Qu.  Median    Mean 3rd Qu.    Max. \n",
       "-1.8839 -0.6155 -0.2282  0.0000  0.2946  7.0675 "
      ]
     },
     "metadata": {},
     "output_type": "display_data"
    }
   ],
   "source": [
    "summary(x_1)"
   ]
  },
  {
   "cell_type": "code",
   "execution_count": 82,
   "metadata": {
    "scrolled": true
   },
   "outputs": [
    {
     "data": {},
     "metadata": {},
     "output_type": "display_data"
    },
    {
     "data": {
      "image/png": "[encoded data removed]",
      "text/plain": [
       "plot without title"
      ]
     },
     "metadata": {},
     "output_type": "display_data"
    }
   ],
   "source": [
    "library(cowplot)\n",
    " \n",
    "df <- data.frame(x = x_1)\n",
    "ggplot(df, aes(x)) +\n",
    "  geom_histogram(bins = 50) +\n",
    "  geom_vline(xintercept = c(-2, 2), linetype = \"dotted\", color = 'red')"
   ]
  },
  {
   "cell_type": "code",
   "execution_count": 79,
   "metadata": {},
   "outputs": [],
   "source": [
    "pData(my_cds)$UMI <- Matrix::colSums(exprs(my_cds))"
   ]
  },
  {
   "cell_type": "code",
   "execution_count": 80,
   "metadata": {},
   "outputs": [
    {
     "data": {
      "text/html": [
       "<table>\n",
       "<thead><tr><th></th><th scope=col>barcode</th><th scope=col>Size_Factor</th><th scope=col>num_genes_expressed</th><th scope=col>UMI</th></tr></thead>\n",
       "<tbody>\n",
       "\t<tr><th scope=row>AAACCTGAGCATCATC-1</th><td>AAACCTGAGCATCATC-1</td><td>0.5672842         </td><td> 871              </td><td>2394              </td></tr>\n",
       "\t<tr><th scope=row>AAACCTGAGCTAACTC-1</th><td>AAACCTGAGCTAACTC-1</td><td>0.4014116         </td><td> 806              </td><td>1694              </td></tr>\n",
       "\t<tr><th scope=row>AAACCTGAGCTAGTGG-1</th><td>AAACCTGAGCTAGTGG-1</td><td>1.0710628         </td><td>1316              </td><td>4520              </td></tr>\n",
       "\t<tr><th scope=row>AAACCTGCACATTAGC-1</th><td>AAACCTGCACATTAGC-1</td><td>0.6606467         </td><td> 898              </td><td>2788              </td></tr>\n",
       "\t<tr><th scope=row>AAACCTGCACTGTTAG-1</th><td>AAACCTGCACTGTTAG-1</td><td>1.1058961         </td><td>1526              </td><td>4667              </td></tr>\n",
       "\t<tr><th scope=row>AAACCTGCATAGTAAG-1</th><td>AAACCTGCATAGTAAG-1</td><td>1.0521060         </td><td>1495              </td><td>4440              </td></tr>\n",
       "</tbody>\n",
       "</table>\n"
      ],
      "text/latex": [
       "\\begin{tabular}{r|llll}\n",
       "  & barcode & Size\\_Factor & num\\_genes\\_expressed & UMI\\\\\n",
       "\\hline\n",
       "\tAAACCTGAGCATCATC-1 & AAACCTGAGCATCATC-1 & 0.5672842          &  871               & 2394              \\\\\n",
       "\tAAACCTGAGCTAACTC-1 & AAACCTGAGCTAACTC-1 & 0.4014116          &  806               & 1694              \\\\\n",
       "\tAAACCTGAGCTAGTGG-1 & AAACCTGAGCTAGTGG-1 & 1.0710628          & 1316               & 4520              \\\\\n",
       "\tAAACCTGCACATTAGC-1 & AAACCTGCACATTAGC-1 & 0.6606467          &  898               & 2788              \\\\\n",
       "\tAAACCTGCACTGTTAG-1 & AAACCTGCACTGTTAG-1 & 1.1058961          & 1526               & 4667              \\\\\n",
       "\tAAACCTGCATAGTAAG-1 & AAACCTGCATAGTAAG-1 & 1.0521060          & 1495               & 4440              \\\\\n",
       "\\end{tabular}\n"
      ],
      "text/markdown": [
       "\n",
       "| <!--/--> | barcode | Size_Factor | num_genes_expressed | UMI | \n",
       "|---|---|---|---|---|---|\n",
       "| AAACCTGAGCATCATC-1 | AAACCTGAGCATCATC-1 | 0.5672842          |  871               | 2394               | \n",
       "| AAACCTGAGCTAACTC-1 | AAACCTGAGCTAACTC-1 | 0.4014116          |  806               | 1694               | \n",
       "| AAACCTGAGCTAGTGG-1 | AAACCTGAGCTAGTGG-1 | 1.0710628          | 1316               | 4520               | \n",
       "| AAACCTGCACATTAGC-1 | AAACCTGCACATTAGC-1 | 0.6606467          |  898               | 2788               | \n",
       "| AAACCTGCACTGTTAG-1 | AAACCTGCACTGTTAG-1 | 1.1058961          | 1526               | 4667               | \n",
       "| AAACCTGCATAGTAAG-1 | AAACCTGCATAGTAAG-1 | 1.0521060          | 1495               | 4440               | \n",
       "\n",
       "\n"
      ],
      "text/plain": [
       "                   barcode            Size_Factor num_genes_expressed UMI \n",
       "AAACCTGAGCATCATC-1 AAACCTGAGCATCATC-1 0.5672842    871                2394\n",
       "AAACCTGAGCTAACTC-1 AAACCTGAGCTAACTC-1 0.4014116    806                1694\n",
       "AAACCTGAGCTAGTGG-1 AAACCTGAGCTAGTGG-1 1.0710628   1316                4520\n",
       "AAACCTGCACATTAGC-1 AAACCTGCACATTAGC-1 0.6606467    898                2788\n",
       "AAACCTGCACTGTTAG-1 AAACCTGCACTGTTAG-1 1.1058961   1526                4667\n",
       "AAACCTGCATAGTAAG-1 AAACCTGCATAGTAAG-1 1.0521060   1495                4440"
      ]
     },
     "metadata": {},
     "output_type": "display_data"
    }
   ],
   "source": [
    "head(pData(my_cds))"
   ]
  },
  {
   "cell_type": "markdown",
   "metadata": {},
   "source": [
    "UMIとnGeneの相関を見る。"
   ]
  },
  {
   "cell_type": "code",
   "execution_count": 81,
   "metadata": {},
   "outputs": [
    {
     "data": {},
     "metadata": {},
     "output_type": "display_data"
    },
    {
     "data": {
      "image/png": "[encoded data removed]",
      "text/plain": [
       "plot without title"
      ]
     },
     "metadata": {},
     "output_type": "display_data"
    }
   ],
   "source": [
    "ggplot(pData(my_cds), aes(num_genes_expressed, UMI)) + geom_point()"
   ]
  },
  {
   "cell_type": "markdown",
   "metadata": {},
   "source": [
    "nGeneやｎUMIが大きすぎる細胞は、通常doubletとして取り除く。"
   ]
  },
  {
   "cell_type": "code",
   "execution_count": null,
   "metadata": {},
   "outputs": [],
   "source": []
  }
 ],
 "metadata": {
  "kernelspec": {
   "display_name": "R",
   "language": "R",
   "name": "ir"
  },
  "language_info": {
   "codemirror_mode": "r",
   "file_extension": ".r",
   "mimetype": "text/x-r-source",
   "name": "R",
   "pygments_lexer": "r",
   "version": "3.5.0"
  }
 },
 "nbformat": 4,
 "nbformat_minor": 2
}
